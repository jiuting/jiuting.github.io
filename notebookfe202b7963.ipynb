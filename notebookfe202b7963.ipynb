{
 "cells": [
  {
   "cell_type": "code",
   "execution_count": 1,
   "id": "3e88d32b",
   "metadata": {
    "_cell_guid": "b1076dfc-b9ad-4769-8c92-a6c4dae69d19",
    "_uuid": "8f2839f25d086af736a60e9eeb907d3b93b6e0e5",
    "execution": {
     "iopub.execute_input": "2022-08-08T08:37:51.099410Z",
     "iopub.status.busy": "2022-08-08T08:37:51.098163Z",
     "iopub.status.idle": "2022-08-08T08:37:51.109781Z",
     "shell.execute_reply": "2022-08-08T08:37:51.108855Z"
    },
    "papermill": {
     "duration": 0.019332,
     "end_time": "2022-08-08T08:37:51.112042",
     "exception": false,
     "start_time": "2022-08-08T08:37:51.092710",
     "status": "completed"
    },
    "tags": []
   },
   "outputs": [],
   "source": [
    "# This Python 3 environment comes with many helpful analytics libraries installed\n",
    "# It is defined by the kaggle/python Docker image: https://github.com/kaggle/docker-python\n",
    "# For example, here's several helpful packages to load\n",
    "\n",
    "import numpy as np # linear algebra\n",
    "import pandas as pd # data processing, CSV file I/O (e.g. pd.read_csv)\n",
    "\n",
    "# Input data files are available in the read-only \"../input/\" directory\n",
    "# For example, running this (by clicking run or pressing Shift+Enter) will list all files under the input directory\n",
    "\n",
    "# import os\n",
    "# for dirname, _, filenames in os.walk('/kaggle/input'):\n",
    "#     for filename in filenames:\n",
    "#         print(os.path.join(dirname, filename))\n",
    "\n",
    "# You can write up to 20GB to the current directory (/kaggle/working/) that gets preserved as output when you create a version using \"Save & Run All\" \n",
    "# You can also write temporary files to /kaggle/temp/, but they won't be saved outside of the current session"
   ]
  },
  {
   "cell_type": "code",
   "execution_count": 2,
   "id": "22dda2fd",
   "metadata": {
    "execution": {
     "iopub.execute_input": "2022-08-08T08:37:51.118586Z",
     "iopub.status.busy": "2022-08-08T08:37:51.118328Z",
     "iopub.status.idle": "2022-08-08T08:37:52.177081Z",
     "shell.execute_reply": "2022-08-08T08:37:52.175901Z"
    },
    "papermill": {
     "duration": 1.064728,
     "end_time": "2022-08-08T08:37:52.179593",
     "exception": false,
     "start_time": "2022-08-08T08:37:51.114865",
     "status": "completed"
    },
    "tags": []
   },
   "outputs": [
    {
     "name": "stdout",
     "output_type": "stream",
     "text": [
      "Mon Aug  8 08:37:51 2022       \r\n",
      "+-----------------------------------------------------------------------------+\r\n",
      "| NVIDIA-SMI 470.82.01    Driver Version: 470.82.01    CUDA Version: 11.4     |\r\n",
      "|-------------------------------+----------------------+----------------------+\r\n",
      "| GPU  Name        Persistence-M| Bus-Id        Disp.A | Volatile Uncorr. ECC |\r\n",
      "| Fan  Temp  Perf  Pwr:Usage/Cap|         Memory-Usage | GPU-Util  Compute M. |\r\n",
      "|                               |                      |               MIG M. |\r\n",
      "|===============================+======================+======================|\r\n",
      "|   0  Tesla P100-PCIE...  Off  | 00000000:00:04.0 Off |                    0 |\r\n",
      "| N/A   37C    P0    28W / 250W |      0MiB / 16280MiB |      0%      Default |\r\n",
      "|                               |                      |                  N/A |\r\n",
      "+-------------------------------+----------------------+----------------------+\r\n",
      "                                                                               \r\n",
      "+-----------------------------------------------------------------------------+\r\n",
      "| Processes:                                                                  |\r\n",
      "|  GPU   GI   CI        PID   Type   Process name                  GPU Memory |\r\n",
      "|        ID   ID                                                   Usage      |\r\n",
      "|=============================================================================|\r\n",
      "|  No running processes found                                                 |\r\n",
      "+-----------------------------------------------------------------------------+\r\n"
     ]
    }
   ],
   "source": [
    "!nvidia-smi"
   ]
  },
  {
   "cell_type": "code",
   "execution_count": 3,
   "id": "0aac370f",
   "metadata": {
    "execution": {
     "iopub.execute_input": "2022-08-08T08:37:52.186925Z",
     "iopub.status.busy": "2022-08-08T08:37:52.186605Z",
     "iopub.status.idle": "2022-08-08T08:38:05.287527Z",
     "shell.execute_reply": "2022-08-08T08:38:05.286382Z"
    },
    "papermill": {
     "duration": 13.107837,
     "end_time": "2022-08-08T08:38:05.290418",
     "exception": false,
     "start_time": "2022-08-08T08:37:52.182581",
     "status": "completed"
    },
    "tags": []
   },
   "outputs": [
    {
     "name": "stdout",
     "output_type": "stream",
     "text": [
      "Collecting ninja\r\n",
      "  Downloading ninja-1.10.2.3-py2.py3-none-manylinux_2_5_x86_64.manylinux1_x86_64.whl (108 kB)\r\n",
      "\u001b[2K     \u001b[90m━━━━━━━━━━━━━━━━━━━━━━━━━━━━━━━━━━━━━\u001b[0m \u001b[32m108.1/108.1 kB\u001b[0m \u001b[31m809.1 kB/s\u001b[0m eta \u001b[36m0:00:00\u001b[0m\r\n",
      "\u001b[?25hCollecting netron\r\n",
      "  Downloading netron-5.9.9-py3-none-any.whl (1.5 MB)\r\n",
      "\u001b[2K     \u001b[90m━━━━━━━━━━━━━━━━━━━━━━━━━━━━━━━━━━━━━━━━\u001b[0m \u001b[32m1.5/1.5 MB\u001b[0m \u001b[31m6.9 MB/s\u001b[0m eta \u001b[36m0:00:00\u001b[0m\r\n",
      "\u001b[?25hCollecting onnxruntime\r\n",
      "  Downloading onnxruntime-1.12.1-cp37-cp37m-manylinux_2_27_x86_64.whl (4.9 MB)\r\n",
      "\u001b[2K     \u001b[90m━━━━━━━━━━━━━━━━━━━━━━━━━━━━━━━━━━━━━━━━\u001b[0m \u001b[32m4.9/4.9 MB\u001b[0m \u001b[31m33.0 MB/s\u001b[0m eta \u001b[36m0:00:00\u001b[0m\r\n",
      "\u001b[?25hRequirement already satisfied: flatbuffers in /opt/conda/lib/python3.7/site-packages (from onnxruntime) (1.12)\r\n",
      "Collecting coloredlogs\r\n",
      "  Downloading coloredlogs-15.0.1-py2.py3-none-any.whl (46 kB)\r\n",
      "\u001b[2K     \u001b[90m━━━━━━━━━━━━━━━━━━━━━━━━━━━━━━━━━━━━━━━━\u001b[0m \u001b[32m46.0/46.0 kB\u001b[0m \u001b[31m3.2 MB/s\u001b[0m eta \u001b[36m0:00:00\u001b[0m\r\n",
      "\u001b[?25hRequirement already satisfied: protobuf in /opt/conda/lib/python3.7/site-packages (from onnxruntime) (3.19.4)\r\n",
      "Requirement already satisfied: packaging in /opt/conda/lib/python3.7/site-packages (from onnxruntime) (21.3)\r\n",
      "Requirement already satisfied: sympy in /opt/conda/lib/python3.7/site-packages (from onnxruntime) (1.10.1)\r\n",
      "Requirement already satisfied: numpy>=1.21.0 in /opt/conda/lib/python3.7/site-packages (from onnxruntime) (1.21.6)\r\n",
      "Collecting humanfriendly>=9.1\r\n",
      "  Downloading humanfriendly-10.0-py2.py3-none-any.whl (86 kB)\r\n",
      "\u001b[2K     \u001b[90m━━━━━━━━━━━━━━━━━━━━━━━━━━━━━━━━━━━━━━━━\u001b[0m \u001b[32m86.8/86.8 kB\u001b[0m \u001b[31m7.0 MB/s\u001b[0m eta \u001b[36m0:00:00\u001b[0m\r\n",
      "\u001b[?25hRequirement already satisfied: pyparsing!=3.0.5,>=2.0.2 in /opt/conda/lib/python3.7/site-packages (from packaging->onnxruntime) (3.0.9)\r\n",
      "Requirement already satisfied: mpmath>=0.19 in /opt/conda/lib/python3.7/site-packages (from sympy->onnxruntime) (1.2.1)\r\n",
      "Installing collected packages: ninja, netron, humanfriendly, coloredlogs, onnxruntime\r\n",
      "Successfully installed coloredlogs-15.0.1 humanfriendly-10.0 netron-5.9.9 ninja-1.10.2.3 onnxruntime-1.12.1\r\n",
      "\u001b[33mWARNING: Running pip as the 'root' user can result in broken permissions and conflicting behaviour with the system package manager. It is recommended to use a virtual environment instead: https://pip.pypa.io/warnings/venv\u001b[0m\u001b[33m\r\n",
      "\u001b[0m"
     ]
    }
   ],
   "source": [
    "!pip install ninja netron  onnxruntime"
   ]
  },
  {
   "cell_type": "code",
   "execution_count": 4,
   "id": "5c94e193",
   "metadata": {
    "execution": {
     "iopub.execute_input": "2022-08-08T08:38:05.300362Z",
     "iopub.status.busy": "2022-08-08T08:38:05.300049Z",
     "iopub.status.idle": "2022-08-08T08:39:26.324700Z",
     "shell.execute_reply": "2022-08-08T08:39:26.323491Z"
    },
    "papermill": {
     "duration": 81.0324,
     "end_time": "2022-08-08T08:39:26.327237",
     "exception": false,
     "start_time": "2022-08-08T08:38:05.294837",
     "status": "completed"
    },
    "tags": []
   },
   "outputs": [
    {
     "name": "stdout",
     "output_type": "stream",
     "text": [
      "Requirement already satisfied: protobuf in /opt/conda/lib/python3.7/site-packages (3.19.4)\r\n",
      "Collecting torch==1.10.0\r\n",
      "  Downloading torch-1.10.0-cp37-cp37m-manylinux1_x86_64.whl (881.9 MB)\r\n",
      "\u001b[2K     \u001b[90m━━━━━━━━━━━━━━━━━━━━━━━━━━━━━━━━━━━━━━━\u001b[0m \u001b[32m881.9/881.9 MB\u001b[0m \u001b[31m1.4 MB/s\u001b[0m eta \u001b[36m0:00:00\u001b[0m\r\n",
      "\u001b[?25hCollecting torchvision==0.11.1\r\n",
      "  Downloading torchvision-0.11.1-cp37-cp37m-manylinux1_x86_64.whl (23.3 MB)\r\n",
      "\u001b[2K     \u001b[90m━━━━━━━━━━━━━━━━━━━━━━━━━━━━━━━━━━━━━━━━\u001b[0m \u001b[32m23.3/23.3 MB\u001b[0m \u001b[31m29.9 MB/s\u001b[0m eta \u001b[36m0:00:00\u001b[0m\r\n",
      "\u001b[?25hRequirement already satisfied: typing-extensions in /opt/conda/lib/python3.7/site-packages (from torch==1.10.0) (4.1.1)\r\n",
      "Requirement already satisfied: numpy in /opt/conda/lib/python3.7/site-packages (from torchvision==0.11.1) (1.21.6)\r\n",
      "Requirement already satisfied: pillow!=8.3.0,>=5.3.0 in /opt/conda/lib/python3.7/site-packages (from torchvision==0.11.1) (9.1.1)\r\n",
      "Installing collected packages: torch, torchvision\r\n",
      "  Attempting uninstall: torch\r\n",
      "    Found existing installation: torch 1.11.0\r\n",
      "    Uninstalling torch-1.11.0:\r\n",
      "      Successfully uninstalled torch-1.11.0\r\n",
      "  Attempting uninstall: torchvision\r\n",
      "    Found existing installation: torchvision 0.12.0\r\n",
      "    Uninstalling torchvision-0.12.0:\r\n",
      "      Successfully uninstalled torchvision-0.12.0\r\n",
      "\u001b[31mERROR: pip's dependency resolver does not currently take into account all the packages that are installed. This behaviour is the source of the following dependency conflicts.\r\n",
      "allennlp 2.10.0 requires protobuf==3.20.0, but you have protobuf 3.19.4 which is incompatible.\u001b[0m\u001b[31m\r\n",
      "\u001b[0mSuccessfully installed torch-1.10.0 torchvision-0.11.1\r\n",
      "\u001b[33mWARNING: Running pip as the 'root' user can result in broken permissions and conflicting behaviour with the system package manager. It is recommended to use a virtual environment instead: https://pip.pypa.io/warnings/venv\u001b[0m\u001b[33m\r\n",
      "\u001b[0m"
     ]
    }
   ],
   "source": [
    "!pip install protobuf torch==1.10.0 torchvision==0.11.1"
   ]
  },
  {
   "cell_type": "code",
   "execution_count": 5,
   "id": "f2e70c2d",
   "metadata": {
    "execution": {
     "iopub.execute_input": "2022-08-08T08:39:26.386434Z",
     "iopub.status.busy": "2022-08-08T08:39:26.386063Z",
     "iopub.status.idle": "2022-08-08T08:39:26.392809Z",
     "shell.execute_reply": "2022-08-08T08:39:26.391742Z"
    },
    "papermill": {
     "duration": 0.040168,
     "end_time": "2022-08-08T08:39:26.396568",
     "exception": false,
     "start_time": "2022-08-08T08:39:26.356400",
     "status": "completed"
    },
    "tags": []
   },
   "outputs": [
    {
     "name": "stdout",
     "output_type": "stream",
     "text": [
      "[Errno 2] No such file or directory: 'DualStyleGAN'\n",
      "/kaggle/working\n"
     ]
    }
   ],
   "source": [
    "cd DualStyleGAN"
   ]
  },
  {
   "cell_type": "code",
   "execution_count": 6,
   "id": "d6dda4bc",
   "metadata": {
    "execution": {
     "iopub.execute_input": "2022-08-08T08:39:26.455492Z",
     "iopub.status.busy": "2022-08-08T08:39:26.454957Z",
     "iopub.status.idle": "2022-08-08T08:39:29.436322Z",
     "shell.execute_reply": "2022-08-08T08:39:29.434873Z"
    },
    "papermill": {
     "duration": 3.014698,
     "end_time": "2022-08-08T08:39:29.440160",
     "exception": false,
     "start_time": "2022-08-08T08:39:26.425462",
     "status": "completed"
    },
    "tags": []
   },
   "outputs": [
    {
     "name": "stdout",
     "output_type": "stream",
     "text": [
      "Cloning into 'DualStyleGAN'...\r\n",
      "remote: Enumerating objects: 1245, done.\u001b[K\r\n",
      "remote: Counting objects: 100% (487/487), done.\u001b[K\r\n",
      "remote: Compressing objects: 100% (168/168), done.\u001b[K\r\n",
      "remote: Total 1245 (delta 359), reused 432 (delta 319), pack-reused 758\u001b[K\r\n",
      "Receiving objects: 100% (1245/1245), 23.16 MiB | 24.99 MiB/s, done.\r\n",
      "Resolving deltas: 100% (704/704), done.\r\n"
     ]
    }
   ],
   "source": [
    "!git clone --branch hyperstyle https://github.com/SerBad/DualStyleGAN.git"
   ]
  },
  {
   "cell_type": "code",
   "execution_count": 7,
   "id": "32d3ad90",
   "metadata": {
    "execution": {
     "iopub.execute_input": "2022-08-08T08:39:29.593100Z",
     "iopub.status.busy": "2022-08-08T08:39:29.592554Z",
     "iopub.status.idle": "2022-08-08T08:39:29.603887Z",
     "shell.execute_reply": "2022-08-08T08:39:29.602836Z"
    },
    "papermill": {
     "duration": 0.093581,
     "end_time": "2022-08-08T08:39:29.608881",
     "exception": false,
     "start_time": "2022-08-08T08:39:29.515300",
     "status": "completed"
    },
    "tags": []
   },
   "outputs": [
    {
     "name": "stdout",
     "output_type": "stream",
     "text": [
      "/kaggle/working/DualStyleGAN\n"
     ]
    }
   ],
   "source": [
    "cd DualStyleGAN"
   ]
  },
  {
   "cell_type": "code",
   "execution_count": 8,
   "id": "c86cf245",
   "metadata": {
    "execution": {
     "iopub.execute_input": "2022-08-08T08:39:29.760032Z",
     "iopub.status.busy": "2022-08-08T08:39:29.759507Z",
     "iopub.status.idle": "2022-08-08T08:39:29.765312Z",
     "shell.execute_reply": "2022-08-08T08:39:29.764274Z"
    },
    "papermill": {
     "duration": 0.08863,
     "end_time": "2022-08-08T08:39:29.771222",
     "exception": false,
     "start_time": "2022-08-08T08:39:29.682592",
     "status": "completed"
    },
    "tags": []
   },
   "outputs": [],
   "source": [
    "# !git pull & python pretrain_dualstylegan.py --iter 3000 --batch 4 /kaggle/input/zhoudualstylegan/DualStyleGAN/data/head2/lmdb/ --encoder_path /kaggle/input/zhoudualstylegan/DualStyleGAN/checkpoint/faces_w_encoder.jit --ckpt /kaggle/input/zhoudualstylegan/DualStyleGAN/checkpoint/stylegan2-ffhq-config-f.pt --batch 1"
   ]
  },
  {
   "cell_type": "code",
   "execution_count": 9,
   "id": "7d6af161",
   "metadata": {
    "execution": {
     "iopub.execute_input": "2022-08-08T08:39:29.919034Z",
     "iopub.status.busy": "2022-08-08T08:39:29.918518Z",
     "iopub.status.idle": "2022-08-08T08:39:29.924715Z",
     "shell.execute_reply": "2022-08-08T08:39:29.923682Z"
    },
    "papermill": {
     "duration": 0.086163,
     "end_time": "2022-08-08T08:39:29.930604",
     "exception": false,
     "start_time": "2022-08-08T08:39:29.844441",
     "status": "completed"
    },
    "tags": []
   },
   "outputs": [],
   "source": [
    "#!git pull & python finetune_dualstylegan.py --iter 3000 --batch 2 --ckpt /kaggle/input/zhoudualstylegan/DualStyleGAN/checkpoint/head3/generator-pretrain-003000.pt --style_loss 0.20 --CX_loss 0.25 --perc_loss 1 --id_loss 1 --L2_reg_loss 0.015  --image_path /kaggle/input/zhoudualstylegan/DualStyleGAN/data/head2/images/train --lmdb_path /kaggle/input/zhoudualstylegan/DualStyleGAN/data/head2/lmdb --identity_path /kaggle/input/zhoudualstylegan/DualStyleGAN/checkpoint/model_ir_se50.pth --exstyle_path /kaggle/input/zhoudualstylegan/DualStyleGAN/checkpoint/head3/exstyle_code.npy --instyle_path /kaggle/input/zhoudualstylegan/DualStyleGAN/checkpoint/head3/instyle_code.npy --augment head3"
   ]
  },
  {
   "cell_type": "code",
   "execution_count": 10,
   "id": "9cbbae1a",
   "metadata": {
    "execution": {
     "iopub.execute_input": "2022-08-08T08:39:30.080703Z",
     "iopub.status.busy": "2022-08-08T08:39:30.080204Z",
     "iopub.status.idle": "2022-08-08T08:40:43.221645Z",
     "shell.execute_reply": "2022-08-08T08:40:43.220468Z"
    },
    "papermill": {
     "duration": 73.218933,
     "end_time": "2022-08-08T08:40:43.224312",
     "exception": false,
     "start_time": "2022-08-08T08:39:30.005379",
     "status": "completed"
    },
    "tags": []
   },
   "outputs": [
    {
     "name": "stdout",
     "output_type": "stream",
     "text": [
      "Already up to date.\r\n",
      "Load options\r\n",
      "batch: 1\r\n",
      "data_path: /kaggle/input/zhoudualstylegan/DualStyleGAN/data\r\n",
      "iter: 300\r\n",
      "model_name: /kaggle/input/zhoudualstylegan/DualStyleGAN/checkpoint/head3/fintune-000600.pt\r\n",
      "model_path: /kaggle/input/zhoudualstylegan/DualStyleGAN/checkpoint\r\n",
      "save_model_path: ./checkpoint/\r\n",
      "style: simpsons\r\n",
      "truncation: 0.7\r\n",
      "**************************************************\r\n",
      "Traceback (most recent call last):\r\n",
      "  File \"destylize.py\", line 112, in <module>\r\n",
      "    ckpt = torch.load(os.path.join(args.model_path, args.style, args.model_name))\r\n",
      "  File \"/opt/conda/lib/python3.7/site-packages/torch/serialization.py\", line 594, in load\r\n",
      "    with _open_file_like(f, 'rb') as opened_file:\r\n",
      "  File \"/opt/conda/lib/python3.7/site-packages/torch/serialization.py\", line 230, in _open_file_like\r\n",
      "    return _open_file(name_or_buffer, mode)\r\n",
      "  File \"/opt/conda/lib/python3.7/site-packages/torch/serialization.py\", line 211, in __init__\r\n",
      "    super(_open_file, self).__init__(open(name, mode))\r\n",
      "FileNotFoundError: [Errno 2] No such file or directory: '/kaggle/input/zhoudualstylegan/DualStyleGAN/checkpoint/head3/fintune-000600.pt'\r\n"
     ]
    }
   ],
   "source": [
    "!git pull & python destylize.py --model_name /kaggle/input/zhoudualstylegan/DualStyleGAN/checkpoint/head3/fintune-000600.pt --batch 1 --iter 300 simpsons --data_path /kaggle/input/zhoudualstylegan/DualStyleGAN/data --model_path /kaggle/input/zhoudualstylegan/DualStyleGAN/checkpoint "
   ]
  }
 ],
 "metadata": {
  "kernelspec": {
   "display_name": "Python 3",
   "language": "python",
   "name": "python3"
  },
  "language_info": {
   "codemirror_mode": {
    "name": "ipython",
    "version": 3
   },
   "file_extension": ".py",
   "mimetype": "text/x-python",
   "name": "python",
   "nbconvert_exporter": "python",
   "pygments_lexer": "ipython3",
   "version": "3.7.12"
  },
  "papermill": {
   "default_parameters": {},
   "duration": 180.573107,
   "end_time": "2022-08-08T08:40:43.774724",
   "environment_variables": {},
   "exception": null,
   "input_path": "__notebook__.ipynb",
   "output_path": "__notebook__.ipynb",
   "parameters": {},
   "start_time": "2022-08-08T08:37:43.201617",
   "version": "2.3.4"
  }
 },
 "nbformat": 4,
 "nbformat_minor": 5
}
